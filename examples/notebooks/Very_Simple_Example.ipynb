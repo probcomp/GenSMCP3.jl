{
 "cells": [
  {
   "cell_type": "code",
   "execution_count": 2,
   "id": "602a9125",
   "metadata": {},
   "outputs": [
    {
     "name": "stderr",
     "output_type": "stream",
     "text": [
      "\u001b[32m\u001b[1m  Activating\u001b[22m\u001b[39m project at `~/Developer/research/SMCP3OpenSource/GenSMCP3.jl`\n"
     ]
    }
   ],
   "source": [
    "using Pkg; Pkg.activate(\"../..\")"
   ]
  },
  {
   "cell_type": "code",
   "execution_count": 17,
   "id": "00658686",
   "metadata": {},
   "outputs": [
    {
     "data": {
      "text/plain": [
       "DynamicDSLFunction{Any}(Dict{Symbol, Any}(), Dict{Symbol, Any}(), Type[Any], false, Union{Nothing, Some{Any}}[nothing], var\"##model#317\", Bool[0], false)"
      ]
     },
     "execution_count": 17,
     "metadata": {},
     "output_type": "execute_result"
    }
   ],
   "source": [
    "using Gen\n",
    "@gen function model(t)\n",
    "    # `x` is the latent value to be inferred\n",
    "    x ~ normal(0, 100)\n",
    "    \n",
    "    # a number of noisy observations are made of `x`.\n",
    "    # the goal will be to infer P(x | observations).\n",
    "    # whenever a new observation is made, we will update this posterior\n",
    "    # using a particle filter.\n",
    "    observations = []\n",
    "    for i in 1:t\n",
    "        obs = {\"obs$i\"} ~ normal(x, 1)\n",
    "        push!(observations, obs)\n",
    "    end\n",
    "\n",
    "    return observations\n",
    "end"
   ]
  },
  {
   "cell_type": "code",
   "execution_count": 104,
   "id": "07d815da",
   "metadata": {},
   "outputs": [
    {
     "data": {
      "text/plain": [
       "│\n",
       "├── \"obs3\" : 244.0100682859606\n",
       "│\n",
       "├── \"obs2\" : 244.82494671853553\n",
       "│\n",
       "├── \"obs1\" : 244.85189759030885\n",
       "│\n",
       "└── :x : 245.56601014895355\n"
      ]
     },
     "execution_count": 104,
     "metadata": {},
     "output_type": "execute_result"
    }
   ],
   "source": [
    "get_choices(simulate(model, (3,)))"
   ]
  },
  {
   "cell_type": "code",
   "execution_count": 19,
   "id": "4cbde904",
   "metadata": {},
   "outputs": [
    {
     "data": {
      "text/plain": [
       "GenTraceKernelDSL.Kernel(var\"#17#19\"())"
      ]
     },
     "execution_count": 19,
     "metadata": {},
     "output_type": "execute_result"
    }
   ],
   "source": [
    "import GenSMCP3: @kernel\n",
    "\n",
    "# This function defines a forward proposal distribution for the model above.\n",
    "# It will receive as input a trace of the model with t-1 observed datapoints,\n",
    "# and a new observation.  Its job is to propose an update to the latent state\n",
    "# of the model, to incorporate information in the new observation.\n",
    "@kernel function forward_proposal(previous_trace, new_observation)\n",
    "    t_prev = get_args(previous_trace)[1]\n",
    "    t = t_prev + 1\n",
    "\n",
    "    # Construct a vector of all the observations, as of time t.\n",
    "    old_observations = [previous_trace[\"obs$i\"] for i in 1:t_prev]\n",
    "    new_observations = vcat(old_observations, [new_observation])\n",
    "\n",
    "    # Compute the mean and variance of the new observations.\n",
    "    mean = sum(new_observations) / t\n",
    "    var = 1/(t + 1)\n",
    "\n",
    "    # Propose a new value for x, based on the new observations.\n",
    "\n",
    "    std = sqrt(var)\n",
    "    new_x ~ normal(mean, std)\n",
    "\n",
    "    # Return two things.\n",
    "    # First: return a choicemap which tells Gen how to overwrite the latent state\n",
    "    # of the current trace, to produce the new trace proposed by this update.\n",
    "    # Second: return a choicemap containing all of the choices the _backward proposal_ (defined below)\n",
    "    # would make to invert this update.  (In this case, the backward proposal would have to propose\n",
    "    # what the value of x was before the update, in order to invert it.)\n",
    "    return (\n",
    "        choicemap((:x, new_x)),\n",
    "        choicemap((:previous_x, trace[:x]))\n",
    "    )\n",
    "end"
   ]
  },
  {
   "cell_type": "code",
   "execution_count": 25,
   "id": "3191c739",
   "metadata": {},
   "outputs": [
    {
     "data": {
      "text/plain": [
       "GenTraceKernelDSL.Kernel(var\"#27#29\"())"
      ]
     },
     "execution_count": 25,
     "metadata": {},
     "output_type": "execute_result"
    }
   ],
   "source": [
    "@kernel function backward_proposal(updated_trace, new_observation)\n",
    "    t = get_args(updated_trace)[1]\n",
    "    \n",
    "    if t > 1\n",
    "        observations_before_update = [updated_trace[\"obs$i\"] for i in 1:t-1]\n",
    "\n",
    "        mean = sum(observations_before_update) / (t-1)\n",
    "        var = 1/t\n",
    "        std = sqrt(var)\n",
    "    else\n",
    "        # If t=1, the previous x value was generated at random from the prior,\n",
    "        # without taking into account any observations.  So to revert to\n",
    "        # this old latent state, we'll sample the previous x from normal(0, 1).\n",
    "        mean = 0\n",
    "        std = 1\n",
    "    end\n",
    "\n",
    "    # Propose what the value of x was before the update.\n",
    "    previous_x ~ normal(mean, std)\n",
    "\n",
    "    # Return two things.\n",
    "    # First: return a choicemap which tells Gen how to overwrite the latent state to invert the update\n",
    "    # from the forward proposal.\n",
    "    # Second: return a choicemap containing all of the choices the _forward proposal_ (defined above)\n",
    "    # would make to re-apply this update.  (In this case, the forward proposal would have to propose\n",
    "    # what the value of x was after the update, in order to re-apply it.)\n",
    "    return (\n",
    "        choicemap((:x, previous_x)),\n",
    "        choicemap((:new_x, updated_trace[:x]))\n",
    "    )\n",
    "end\n"
   ]
  },
  {
   "cell_type": "code",
   "execution_count": 50,
   "id": "f66d20dc",
   "metadata": {},
   "outputs": [
    {
     "data": {
      "text/plain": [
       "smcp3_algorithm (generic function with 1 method)"
      ]
     },
     "execution_count": 50,
     "metadata": {},
     "output_type": "execute_result"
    }
   ],
   "source": [
    "import GenSMCP3: SMCP3Update\n",
    "using GenParticleFilters\n",
    "\n",
    "function smcp3_algorithm(observations, n_particles)\n",
    "    # Initialize with 0 observations.\n",
    "    # Pass in an empty choicemap to indicate that there are not\n",
    "    # yet any observed values.\n",
    "    state = pf_initialize(model, (0,), choicemap(), n_particles)\n",
    "\n",
    "    # For each tth observation:\n",
    "    for (t, observation) in enumerate(observations)\n",
    "        pf_update!(\n",
    "            state,\n",
    "            # new argument to the model, to have it output `t` observations\n",
    "            (t,),\n",
    "\n",
    "            # Tell Gen some change occurred to the argument, but we are\n",
    "            # not going to provide any special information about the\n",
    "            # type of change.  (In some cases we may provide information\n",
    "            # about the change, so Gen can use incremental computation\n",
    "            # to improve performance.)\n",
    "            (UnknownChange(),),\n",
    "            \n",
    "            # update the latent state using an SMCP3 update,\n",
    "            # with the forward and backward proposals defined above,\n",
    "            # given the new observation as an additional argument\n",
    "            # after the trace to be updated\n",
    "            SMCP3Update(\n",
    "                forward_proposal,\n",
    "                backward_proposal,\n",
    "                (observation,),\n",
    "                (observation,)\n",
    "            ),\n",
    "            \n",
    "            # update the trace to have this observation\n",
    "            # at the address \"obs$t\"\n",
    "            choicemap((\"obs$t\", observation))\n",
    "        )\n",
    "    end\n",
    "    \n",
    "    # Resample the particles whenever the ESS becomes too small\n",
    "    if effective_sample_size(state) < 1/5 * n_particles\n",
    "        # Perform residual resampling, pruning low-weight particles\n",
    "        pf_resample!(state, :residual)\n",
    "    end\n",
    "    \n",
    "    return state\n",
    "end"
   ]
  },
  {
   "cell_type": "code",
   "execution_count": 51,
   "id": "f65b49a6",
   "metadata": {},
   "outputs": [
    {
     "data": {
      "text/plain": [
       "estimate_expectation (generic function with 1 method)"
      ]
     },
     "execution_count": 51,
     "metadata": {},
     "output_type": "execute_result"
    }
   ],
   "source": [
    "function estimate_expectation(state, f)\n",
    "    return sum(\n",
    "        w * f(tr)\n",
    "        for (w, tr) in zip(\n",
    "            GenParticleFilters.get_norm_weights(state),\n",
    "            state.traces\n",
    "        )\n",
    "    )\n",
    "end\n",
    "    "
   ]
  },
  {
   "cell_type": "code",
   "execution_count": null,
   "id": "e11c331f",
   "metadata": {},
   "outputs": [],
   "source": []
  },
  {
   "cell_type": "code",
   "execution_count": 103,
   "id": "31393ec6",
   "metadata": {},
   "outputs": [
    {
     "data": {
      "text/plain": [
       "2.0021691953969785"
      ]
     },
     "execution_count": 103,
     "metadata": {},
     "output_type": "execute_result"
    }
   ],
   "source": [
    "inference_result_state = smcp3_algorithm([1, 2, 3], 1000);\n",
    "empirical_expected_x = mean(inference_result_state, :x)"
   ]
  },
  {
   "cell_type": "code",
   "execution_count": 102,
   "id": "d89ddb03",
   "metadata": {},
   "outputs": [
    {
     "data": {
      "text/plain": [
       "4.000201460941245"
      ]
     },
     "execution_count": 102,
     "metadata": {},
     "output_type": "execute_result"
    }
   ],
   "source": [
    "inference_result_state = smcp3_algorithm([1, 2, 3, 10], 1000);\n",
    "empirical_expected_x = mean(inference_result_state, :x)"
   ]
  },
  {
   "cell_type": "code",
   "execution_count": null,
   "id": "258d1939",
   "metadata": {},
   "outputs": [],
   "source": []
  }
 ],
 "metadata": {
  "kernelspec": {
   "display_name": "Julia 1.8.0",
   "language": "julia",
   "name": "julia-1.8"
  },
  "language_info": {
   "file_extension": ".jl",
   "mimetype": "application/julia",
   "name": "julia",
   "version": "1.8.0"
  }
 },
 "nbformat": 4,
 "nbformat_minor": 5
}
